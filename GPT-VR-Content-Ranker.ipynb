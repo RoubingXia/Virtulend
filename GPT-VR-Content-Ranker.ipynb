{
 "cells": [
  {
   "cell_type": "code",
   "execution_count": null,
   "id": "7ba7cf9d",
   "metadata": {},
   "outputs": [],
   "source": [
    "pip install openai"
   ]
  },
  {
   "cell_type": "code",
   "execution_count": null,
   "id": "4156fd80",
   "metadata": {},
   "outputs": [],
   "source": [
    "pip install numpy"
   ]
  },
  {
   "cell_type": "code",
   "execution_count": null,
   "id": "92d7cf60",
   "metadata": {},
   "outputs": [],
   "source": [
    "pip install -U scikit-learn"
   ]
  },
  {
   "cell_type": "code",
   "execution_count": 31,
   "id": "e9a6c6b1",
   "metadata": {},
   "outputs": [],
   "source": [
    "import openai\n",
    "import json\n",
    "import numpy as np\n",
    "from sklearn.metrics.pairwise import cosine_similarity\n",
    "\n",
    "# Your OpenAI API Key\n",
    "openai.api_key = ''\n",
    "\n",
    "# Function to format games as per the requirement\n",
    "def format_games(games):\n",
    "    # convert the game data into a string format\n",
    "    formatted_games = '\\n'.join([f'index: {i}, name: {game[\"name\"]}, detailed_description: {game[\"detailed_description\"]}' for i, game in enumerate(games)])\n",
    "    return formatted_games\n",
    "\n",
    "# Function to rank games\n",
    "def ranker(games, user_query):\n",
    "    system_message = {\"role\": \"system\", \"content\": \"You are RankGPT, an intelligent assistant that can rank games based on how helpful they would be to the user.\"}\n",
    "    context_string = format_games(games)\n",
    "\n",
    "    prompt = f\"\"\"\n",
    "    I will provide you with {len(games)} games, each indicated by number `index` field.\n",
    "    Rank the games based on their relevance to query: {user_query}.\n",
    "\n",
    "    {context_string}\n",
    "\n",
    "    Search Query: {user_query}.\n",
    "    \n",
    "    Rank the {len(games)} games above based on their relevance to the search query.\n",
    "    Use all the information available to you to rank the games.\n",
    "    The games should be listed in descending order using identifiers. \n",
    "    The most relevant games should be listed first. If multiple games are equally relevant, use the number of positive votes as a tie-breaker.\n",
    "    The output format should be a list of identifiers, separated by commas and enclosed in square brackets.\n",
    "    Only output the list of identifiers, do not output any other text.\n",
    "    \"\"\"\n",
    "\n",
    "    modified_user_message = {'role': 'user', 'content': prompt}\n",
    "\n",
    "    response = openai.ChatCompletion.create(\n",
    "        model=\"gpt-3.5-turbo\",\n",
    "        messages=[system_message, modified_user_message],\n",
    "        stream = False,\n",
    "        temperature=0.7,\n",
    "    )\n",
    "\n",
    "    ranked_order = json.loads(response.choices[0].message.content)\n",
    "\n",
    "    return ranked_order\n",
    "\n",
    "\n",
    "\n",
    "\n",
    "\n"
   ]
  },
  {
   "cell_type": "code",
   "execution_count": null,
   "id": "a21839a5",
   "metadata": {},
   "outputs": [],
   "source": [
    "def get_embedding(text, model=\"text-embedding-ada-002\"):\n",
    "    text = text.replace(\"\\n\", \" \")\n",
    "    embedding = openai.Embedding.create(input=[text], model=model)[\"data\"][0][\"embedding\"]\n",
    "    return np.array(embedding)"
   ]
  },
  {
   "cell_type": "code",
   "execution_count": 32,
   "id": "a47c0529",
   "metadata": {},
   "outputs": [],
   "source": [
    "def generate_candidates(query, games, top_n=10):\n",
    "    # Embed the query and games' descriptions\n",
    "    query_embedding = get_embedding(query)\n",
    "    if query_embedding is None:\n",
    "        return []\n",
    "\n",
    "    game_ids = list(games.keys())\n",
    "    game_embeddings = np.array([get_embedding(games[game_id][\"detailed_description\"]) for game_id in game_ids if games[game_id].get(\"detailed_description\")])\n",
    "    if len(game_embeddings) == 0:\n",
    "        return []\n",
    "\n",
    "    # Compute cosine similarity between the query and games' descriptions\n",
    "    cosine_similarities = cosine_similarity(query_embedding.reshape(1, -1), game_embeddings)\n",
    "\n",
    "    # Get top_n games that are most similar to the query\n",
    "    top_game_indices = np.argsort(cosine_similarities)[0][::-1][:top_n]\n",
    "    candidates = [games[game_ids[i]] for i in top_game_indices]\n",
    "\n",
    "    return candidates\n",
    "\n",
    "\n",
    "\n",
    "\n"
   ]
  },
  {
   "cell_type": "code",
   "execution_count": 35,
   "id": "ad63af35",
   "metadata": {},
   "outputs": [
    {
     "name": "stdout",
     "output_type": "stream",
     "text": [
      "Collecting tabulate\n",
      "  Downloading tabulate-0.9.0-py3-none-any.whl (35 kB)\n",
      "Installing collected packages: tabulate\n",
      "Successfully installed tabulate-0.9.0\n",
      "Note: you may need to restart the kernel to use updated packages.\n"
     ]
    }
   ],
   "source": [
    "pip install tabulate"
   ]
  },
  {
   "cell_type": "code",
   "execution_count": 37,
   "id": "d33411bb",
   "metadata": {},
   "outputs": [],
   "source": [
    "from tabulate import tabulate\n",
    "\n",
    "def print_game_table(games):\n",
    "    table_data = []\n",
    "    headers = [\"Game\", \"Price\"]\n",
    "\n",
    "    for game in games:\n",
    "        game_name = game[\"name\"]\n",
    "        game_price = game[\"price\"]\n",
    "        table_data.append([game_name, game_price])\n",
    "\n",
    "    print(tabulate(table_data, headers=headers, tablefmt=\"grid\"))"
   ]
  },
  {
   "cell_type": "code",
   "execution_count": 47,
   "id": "7b9c1d25",
   "metadata": {},
   "outputs": [
    {
     "name": "stdout",
     "output_type": "stream",
     "text": [
      "+------------------------------------------------------------------------------+---------+\n",
      "| Game                                                                         |   Price |\n",
      "+==============================================================================+=========+\n",
      "| MEDICALHOLODECK. Surgical Training and Medical Education in Virtual Reality. |    0    |\n",
      "+------------------------------------------------------------------------------+---------+\n",
      "| Jam Studio VR - Education & Health Care Edition                              |   99    |\n",
      "+------------------------------------------------------------------------------+---------+\n",
      "| Noun Town: VR Language Learning                                              |   14.99 |\n",
      "+------------------------------------------------------------------------------+---------+\n"
     ]
    }
   ],
   "source": [
    "print_game_table(candidates)"
   ]
  },
  {
   "cell_type": "code",
   "execution_count": null,
   "id": "bb8bb15e",
   "metadata": {},
   "outputs": [],
   "source": [
    "# For example:\n",
    "user_query = \"I am trying to find a free educational app that teaches medical\"\n",
    "# Load the game data\n",
    "with open(\"games2.json\", \"r\", encoding=\"utf-8\") as f:\n",
    "    data = json.load(f)\n",
    "    games = data\n",
    "candidates = generate_candidates(user_query, games, top_n=3)\n",
    "ranked_order = ranker(candidates, user_query)"
   ]
  }
 ],
 "metadata": {
  "kernelspec": {
   "display_name": "Python 3 (ipykernel)",
   "language": "python",
   "name": "python3"
  },
  "language_info": {
   "codemirror_mode": {
    "name": "ipython",
    "version": 3
   },
   "file_extension": ".py",
   "mimetype": "text/x-python",
   "name": "python",
   "nbconvert_exporter": "python",
   "pygments_lexer": "ipython3",
   "version": "3.11.3"
  }
 },
 "nbformat": 4,
 "nbformat_minor": 5
}
